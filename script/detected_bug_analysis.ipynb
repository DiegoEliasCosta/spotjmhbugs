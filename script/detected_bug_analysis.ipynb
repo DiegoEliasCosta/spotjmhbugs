{
 "cells": [
  {
   "cell_type": "markdown",
   "metadata": {},
   "source": [
    "## Read Files"
   ]
  },
  {
   "cell_type": "code",
   "execution_count": 28,
   "metadata": {
    "collapsed": true
   },
   "outputs": [],
   "source": [
    "import pandas as pd\n",
    "import os\n",
    "\n",
    "# Files to use for the analysis\n",
    "\n",
    "# detected_bugs_file = os.path.join('detected_bugs_3.csv')\n",
    "folder = os.path.join(\"results\")\n",
    "\n",
    "projects_ranking_file = os.path.join('jmh-projects-bigquery-fh-201702 - jmh-projects-gh.csv')\n",
    "\n",
    "top = 25\n",
    "\n",
    "projects = pd.read_csv(projects_ranking_file, sep=',')\n",
    "\n",
    "\n",
    "# Normalize columns\n",
    "projects['xml'] = projects['project'].apply(lambda x: x.split('/')[1] + '.xml')\n",
    "projects['name'] = projects['project'].apply(lambda x: x.split('/')[1])\n"
   ]
  },
  {
   "cell_type": "code",
   "execution_count": 29,
   "metadata": {
    "collapsed": true
   },
   "outputs": [],
   "source": [
    "# Normalizing the plot colors\n",
    "COLOR = 'cornflowerblue'\n",
    "COLOR = 'lightskyblue'\n",
    "ALPHA = .8"
   ]
  },
  {
   "cell_type": "markdown",
   "metadata": {},
   "source": [
    "## Remove Projects that could not be analyzed"
   ]
  },
  {
   "cell_type": "code",
   "execution_count": 30,
   "metadata": {
    "collapsed": true
   },
   "outputs": [],
   "source": [
    "# Remove projects that could not be analyzed\n",
    "projects_to_remove = ['jgrapht/jgrapht', 'lemire/RoaringBitmap', 'RoaringBitmap/RoaringBitmap', \n",
    "                      'requery/requery', 'Netflix/feign', 'crate/crate', 'real-logic/simple-binary-encoding', \n",
    "                      'jbachorik/btrace', 'promeG/TinyPinyin', 'pcollections/pcollections', 'ktoso/sbt-jmh', \n",
    "                      'junkdog/artemis-odb', 'fakemongo/fongo', 'graalvm/truffle', 'graalvm/graal-core']\n",
    "\n",
    "projects = projects[~projects['project'].isin(projects_to_remove)] # jgrapht\n",
    "\n",
    "top_projects = projects.sort_values(by=['watchers', 'stars', 'forks'], ascending=False)"
   ]
  },
  {
   "cell_type": "markdown",
   "metadata": {},
   "source": [
    "### Remove Forked Projects"
   ]
  },
  {
   "cell_type": "code",
   "execution_count": 31,
   "metadata": {},
   "outputs": [
    {
     "name": "stdout",
     "output_type": "stream",
     "text": [
      "Original Set containing 824 projects\n",
      "Non-forked projects containing 506 projects\n"
     ]
    }
   ],
   "source": [
    "non_duplicated_projects = top_projects[top_projects.forked == False]\n",
    "print('Original Set containing %d projects' % len(top_projects))\n",
    "print('Non-forked projects containing %d projects' % len(non_duplicated_projects))"
   ]
  },
  {
   "cell_type": "markdown",
   "metadata": {},
   "source": [
    "## Analyze the bugs based on the Type reported"
   ]
  },
  {
   "cell_type": "code",
   "execution_count": 32,
   "metadata": {
    "collapsed": true
   },
   "outputs": [],
   "source": [
    "from collections import Counter\n",
    "import xml.etree.ElementTree as ET\n",
    "\n",
    "def analyzeBugTypes(df):\n",
    "    \n",
    "    try:\n",
    "    \n",
    "        tree = ET.parse(os.path.join(folder, df['xml']))\n",
    "        root = tree.getroot()\n",
    "\n",
    "        all_bugs = root.findall('BugInstance')\n",
    "\n",
    "        bugs_per_type = [] \n",
    "        for b in all_bugs:\n",
    "            bug_type = b.get('type')\n",
    "            clazz = b.find('Class')\n",
    "            if clazz and 'generated' not in clazz.get('classname'):\n",
    "                bugs_per_type.append(bug_type)\n",
    "\n",
    "        # Count bugs per type\n",
    "        bugs = Counter(bugs_per_type)\n",
    "        for key, value in bugs.items():\n",
    "            df[key] = value\n",
    "    \n",
    "    except FileNotFoundError:\n",
    "        pass\n",
    "    \n",
    "    return df\n",
    "\n",
    "analyzed = non_duplicated_projects.apply(analyzeBugTypes, axis=1)\n",
    "analyzed = analyzed.fillna(0)\n",
    "analyzed = analyzed.set_index('name')\n",
    "analyzed = analyzed[analyzed['JMH_BENCHMARK_METHOD_FOUND'] > 0]"
   ]
  },
  {
   "cell_type": "markdown",
   "metadata": {},
   "source": [
    "## Generate Latex"
   ]
  },
  {
   "cell_type": "code",
   "execution_count": 33,
   "metadata": {
    "scrolled": true
   },
   "outputs": [],
   "source": [
    "columns_to_export = [\n",
    "   'stars',\n",
    "  # 'forks',\n",
    "   # 'subscribers',\n",
    "    'JMH_BENCHMARK_METHOD_FOUND',\n",
    "    'JMH_FIXTURE_USING_INVOCATION_SCOPE',\n",
    "#     'JMH_FIXTURE_USING_INVOCATION_SCOPE_rel',\n",
    "    #'JMH_IGNORED_METHOD_RETURN',\n",
    "#     'JMH_IGNORED_METHOD_RETURN_rel',\n",
    "  #  'JMH_LOOP_INSIDE_BENCHMARK',\n",
    "#     'JMH_LOOP_INSIDE_BENCHMARK_rel',\n",
    "    #'JMH_STATE_FINAL_FIELD',\n",
    "#     'JMH_STATE_FINAL_FIELD_rel',\n",
    "    'JMH_NOTFORKED_BENCHMARK',\n",
    "#     'JMH_NOTFORKED_BENCHMARK_rel',\n",
    "#    'JMH_BENCHMARKMODE_SINGLESHOT',\n",
    "#     'JMH_BENCHMARKMODE_SINGLESHOT_rel'\n",
    "    'JMH_UNSINKED_VARIABLE',\n",
    "#    'JMH_DEAD_STORE_VARIABLE',\n",
    "    'JMH_IGNORED_STATIC_METHOD_RETURN',\n",
    "    'JMH_IGNORED_STATIC_PRIMITIVE_METHOD_RETURN',\n",
    "    'JMH_STATE_FINAL_PRIMITIVE',\n",
    "    'JMH_UNSAFELOOP_INSIDE_BENCHMARK',\n",
    "    #'JMH_STATE_FINAL_STATIC_PRIMITIVE',\n",
    "]\n",
    "\n",
    "\n",
    "bug_type_dict = {\n",
    "    'stars': 'Stars',\n",
    "    'forks': 'Forks',\n",
    "    'subscribers': 'Subs',\n",
    "    'JMH_BENCHMARK_METHOD_FOUND': 'Benchs',\n",
    "    'JMH_FIXTURE_USING_INVOCATION_SCOPE': 'INVO',\n",
    "#     'JMH_FIXTURE_USING_INVOCATION_SCOPE_rel': 'INVO %',\n",
    "    'JMH_IGNORED_METHOD_RETURN': 'RETU',\n",
    "#     'JMH_IGNORED_METHOD_RETURN_rel': 'RETU %',\n",
    "    'JMH_UNSAFELOOP_INSIDE_BENCHMARK': 'LOOP',\n",
    "#     'JMH_LOOP_INSIDE_BENCHMARK_rel': 'LOOP %',\n",
    "    'JMH_STATE_FINAL_FIELD': 'FINA',\n",
    "#     'JMH_STATE_FINAL_FIELD_rel': 'FINA %',\n",
    "    'JMH_NOTFORKED_BENCHMARK': 'FORK',\n",
    "#     'JMH_NOTFORKED_BENCHMARK_rel': 'FORK %',\n",
    "#    'JMH_BENCHMARKMODE_SINGLESHOT': 'SING',\n",
    "#     'JMH_BENCHMARKMODE_SINGLESHOT_rel': 'SING %'\n",
    "    'JMH_UNSINKED_VARIABLE': 'UNSINK',\n",
    " #   'JMH_DEAD_STORE_VARIABLE': 'DEAD',\n",
    "    'JMH_IGNORED_STATIC_METHOD_RETURN': 'STAT',\n",
    "    'JMH_IGNORED_STATIC_PRIMITIVE_METHOD_RETURN': 'STAT2',\n",
    "    \n",
    "    'JMH_STATE_FINAL_PRIMITIVE': 'FINA',\n",
    "    \n",
    "}\n",
    "\n",
    "analyzed = analyzed[columns_to_export]\n",
    "analyzed = analyzed.rename(columns=bug_type_dict)\n",
    "\n"
   ]
  },
  {
   "cell_type": "code",
   "execution_count": 34,
   "metadata": {},
   "outputs": [
    {
     "name": "stdout",
     "output_type": "stream",
     "text": [
      "\\begin{tabular}{lrlllllll}\n",
      "\\toprule\n",
      "{} &  Stars & Benchs & INVO & FORK & UNSINK & STAT & FINA & LOOP \\\\\n",
      "name                     &        &        &      &      &        &      &      &      \\\\\n",
      "\\midrule\n",
      "RxJava                   &  23558 &    215 &      &      &        &      &      &      \\\\\n",
      "netty                    &   9746 &    159 &    2 &      &     21 &   10 &    2 &   14 \\\\\n",
      "zipkin                   &   5627 &     74 &      &      &      1 &      &      &      \\\\\n",
      "druid                    &   4743 &    148 &    2 &      &     86 &      &    1 &   11 \\\\\n",
      "okio                     &   3703 &     19 &    1 &      &        &      &      &      \\\\\n",
      "grpc-java                &   2631 &      3 &      &      &      1 &      &      &      \\\\\n",
      "caffeine                 &   2414 &     38 &      &      &      3 &    1 &      &      \\\\\n",
      "h2o-3                    &   1943 &     18 &   10 &      &      1 &      &      &    6 \\\\\n",
      "gs-collections           &   1652 &    451 &      &      &     85 &   13 &      &      \\\\\n",
      "byte-buddy               &   1495 &     39 &      &      &      4 &      &      &      \\\\\n",
      "pinot                    &   1475 &     31 &      &      &      7 &      &      &   16 \\\\\n",
      "JCTools                  &   1053 &     92 &    2 &      &     22 &      &      &    1 \\\\\n",
      "apollo                   &   1023 &      1 &      &      &      1 &      &      &      \\\\\n",
      "stagemonitor             &    929 &      6 &      &      &        &      &      &      \\\\\n",
      "java                     &    623 &      2 &      &      &        &      &      &      \\\\\n",
      "pushy                    &    603 &      2 &      &      &        &      &      &      \\\\\n",
      "blynk-server             &    569 &     12 &      &      &        &      &      &      \\\\\n",
      "rtree                    &    482 &     42 &      &      &        &      &      &      \\\\\n",
      "commonmark-java          &    385 &      4 &      &      &        &      &      &      \\\\\n",
      "hppc                     &    373 &      5 &      &      &        &      &      &      \\\\\n",
      "es4j                     &    352 &      4 &      &      &      1 &      &      &      \\\\\n",
      "pgjdbc                   &    322 &     35 &      &    2 &      8 &      &      &      \\\\\n",
      "logging-log4j2           &    256 &    346 &      &      &     19 &    5 &    4 &    6 \\\\\n",
      "xodus                    &    248 &     66 &   18 &      &     16 &      &      &    7 \\\\\n",
      "javaslang-circuitbreaker &    224 &     17 &      &      &        &      &      &      \\\\\n",
      "\\bottomrule\n",
      "\\end{tabular}\n",
      "\n"
     ]
    }
   ],
   "source": [
    "# Consolidate both STAT \n",
    "analyzed['STAT'] = analyzed['STAT'] + analyzed['STAT2'] \n",
    "\n",
    "analyzed = analyzed.drop(['STAT2'], axis=1)\n",
    "\n",
    "latex = analyzed[:top]\n",
    "latex = latex.fillna('')\n",
    "latex = latex.replace({0: ''})\n",
    "\n",
    "print(latex.to_latex())"
   ]
  },
  {
   "cell_type": "code",
   "execution_count": 40,
   "metadata": {},
   "outputs": [
    {
     "name": "stdout",
     "output_type": "stream",
     "text": [
      "Analyzed Projects containing 133\n"
     ]
    }
   ],
   "source": [
    "anti_patterns = ['INVO', 'FORK', 'STAT', 'FINA', 'LOOP'] # Removing UNSINK for now\n",
    "anti_patterns = ['INVO', 'FORK', 'UNSINK', 'STAT', 'FINA', 'LOOP']\n",
    "\n",
    "def anti_pattern_category_analysis(df):\n",
    "    cat = 0\n",
    "    count = 0\n",
    "    for ap in anti_patterns:\n",
    "        if df[ap] > 0:\n",
    "            cat = cat + 1\n",
    "            count = count + df[ap]\n",
    "    df['# of AP'] = count\n",
    "    df['# of Categories'] = cat\n",
    "    return df\n",
    "    \n",
    "df = analyzed.apply(anti_pattern_category_analysis, axis=1)\n",
    "print('Analyzed Projects containing %d' % len(df))"
   ]
  },
  {
   "cell_type": "markdown",
   "metadata": {},
   "source": [
    "### Zero Anti-Patterns Found"
   ]
  },
  {
   "cell_type": "markdown",
   "metadata": {},
   "source": [
    "### Project Distribution Analysis\n",
    "\n",
    "Anti-patterns category distribution across different projects."
   ]
  },
  {
   "cell_type": "code",
   "execution_count": 41,
   "metadata": {},
   "outputs": [
    {
     "name": "stdout",
     "output_type": "stream",
     "text": [
      "\\begin{tabular}{lr}\n",
      "\\toprule\n",
      "{} &  \\# of Categories \\\\\n",
      "\\midrule\n",
      "0 &               66 \\\\\n",
      "1 &               40 \\\\\n",
      "2 &               14 \\\\\n",
      "3 &                8 \\\\\n",
      "5 &                2 \\\\\n",
      "4 &                2 \\\\\n",
      "6 &                1 \\\\\n",
      "\\bottomrule\n",
      "\\end{tabular}\n",
      "\n"
     ]
    }
   ],
   "source": [
    "counts = df['# of Categories'].value_counts()\n",
    "print(counts.to_latex())"
   ]
  },
  {
   "cell_type": "code",
   "execution_count": 42,
   "metadata": {},
   "outputs": [
    {
     "data": {
      "image/png": "[encoded data removed]",
      "text/plain": [
       "<matplotlib.figure.Figure at 0x15e679b6668>"
      ]
     },
     "metadata": {},
     "output_type": "display_data"
    }
   ],
   "source": [
    "import seaborn as sns\n",
    "%matplotlib inline\n",
    "import matplotlib.pyplot as plt\n",
    "import matplotlib.ticker as ticker\n",
    "\n",
    "sns.set(font_scale=1.2)\n",
    "plt.figure(figsize=(6,4))\n",
    "sns.set_style(\"ticks\")\n",
    "\n",
    "ax = sns.distplot(df['# of Categories'], kde=False, bins=range(0,9), color=COLOR, \n",
    "             hist_kws={'rwidth':0.75, 'alpha':ALPHA})\n",
    "\n",
    "ax.set(xlabel='Amount of rules that retrieved at least one anti-pattern', ylabel='Number of Projects',)\n",
    "\n",
    "# Annotate Bars\n",
    "for p in ax.patches:\n",
    "    if p.get_height() > 50:\n",
    "        offset = -3\n",
    "    else:\n",
    "        offset = +2\n",
    "    ax.annotate(\"%.0f%%\" % p.get_height(), (p.get_x() + p.get_width() / 2., p.get_height() + offset),\n",
    "         ha='center', va='center', rotation=0, xytext=(0, 0), textcoords='offset points',fontsize=12, color='dimgray')  #vertical bars\n",
    "\n",
    "\n",
    "# Hide major tick labels\n",
    "ax.xaxis.set_major_formatter(ticker.NullFormatter())\n",
    "\n",
    "# Centralize minor tick labels\n",
    "ax.xaxis.set_minor_locator(ticker.FixedLocator([0.5,1.5,2.5,3.5,4.5,5.5,6.5,7.5]))\n",
    "ax.xaxis.set_minor_formatter(ticker.FixedFormatter(['0','1','2','3','4','5','6','7', '']))\n",
    "\n",
    "plt.savefig(os.path.join(folder, '..', 'figs', 'projects-rules-ditribution.pdf'))"
   ]
  },
  {
   "cell_type": "code",
   "execution_count": 43,
   "metadata": {},
   "outputs": [
    {
     "data": {
      "image/png": "[encoded data removed]",
      "text/plain": [
       "<matplotlib.figure.Figure at 0x15e65a9e3c8>"
      ]
     },
     "metadata": {},
     "output_type": "display_data"
    }
   ],
   "source": [
    "%matplotlib inline\n",
    "sns.set(font_scale=1.2)\n",
    "sns.set_style(\"ticks\")\n",
    "\n",
    "bins = [-1,0,1,2,3,4,5,10,50,111]\n",
    "\n",
    "plt.figure(figsize=(6,4))\n",
    "\n",
    "clrs = 'colorblind'\n",
    "clrs = 'Blues'\n",
    "\n",
    "distribution = pd.cut(df['# of AP'], bins=bins).value_counts()\n",
    "distribution = distribution / 133 * 100\n",
    "distribution = distribution[distribution > 0]\n",
    "ax = sns.barplot(y=distribution.index, x=distribution, color=COLOR, alpha=ALPHA)\n",
    "\n",
    "for p in ax.patches:\n",
    "    if p.get_width() > 40:\n",
    "        offset = -3\n",
    "    else:\n",
    "        offset = +3\n",
    "    ax.annotate(\"%.1f%%\" % p.get_width(), (p.get_x() + p.get_width() + offset, p.get_y() + .5),\n",
    "         ha='center', va='center', rotation=0, xytext=(0, 0), textcoords='offset points',fontsize=12, color='dimgray')  #vertical bars\n",
    "\n",
    "ax.yaxis.set_major_formatter(ticker.FixedFormatter(['0','1','2','3','4','5','6-10','11-50','+50']))\n",
    "ax.set(ylabel='# of spotted anti-patterns', xlabel='% of Projects',)\n",
    "\n",
    "plt.tight_layout()\n",
    "\n",
    "plt.savefig(os.path.join(folder, '..', 'figs', 'projects-ap-ditribution.pdf'))"
   ]
  },
  {
   "cell_type": "code",
   "execution_count": 111,
   "metadata": {},
   "outputs": [
    {
     "data": {
      "image/png": "[encoded data removed]",
      "text/plain": [
       "<matplotlib.figure.Figure at 0x1b098ee90f0>"
      ]
     },
     "metadata": {},
     "output_type": "display_data"
    }
   ],
   "source": [
    "%matplotlib inline\n",
    "sns.set(font_scale=1)\n",
    "sns.set_style(\"ticks\")\n",
    "\n",
    "p = df[df['# of AP'] > 0]\n",
    "plt.clf()\n",
    "\n",
    "ax = sns.distplot(p['# of AP'], kde=False, hist=True, bins=range(0,122, 2),\n",
    "             hist_kws={'edgecolor':'black', 'alpha':.4})\n",
    "\n",
    "ax.set(xlabel='Amount of anti-pattern spotted', ylabel='# of Projects',)\n",
    "\n",
    "plt.savefig(os.path.join(folder, '..', 'figs', 'projects-ap-ditribution-2.pdf'))"
   ]
  },
  {
   "cell_type": "code",
   "execution_count": 225,
   "metadata": {},
   "outputs": [
    {
     "name": "stderr",
     "output_type": "stream",
     "text": [
      "C:\\ProgramData\\Anaconda3\\lib\\site-packages\\matplotlib\\figure.py:1999: UserWarning: This figure includes Axes that are not compatible with tight_layout, so results might be incorrect.\n",
      "  warnings.warn(\"This figure includes Axes that are not compatible \"\n"
     ]
    },
    {
     "data": {
      "image/png": "[encoded data removed]",
      "text/plain": [
       "<matplotlib.figure.Figure at 0x1b09d192400>"
      ]
     },
     "metadata": {},
     "output_type": "display_data"
    }
   ],
   "source": [
    "%matplotlib inline\n",
    "\n",
    "ax = sns.distplot(df['# of AP'], kde=True, bins=range(0,122), color=COLOR,\n",
    "             hist_kws={'edgecolor':'black', 'cumulative':True},\n",
    "             kde_kws={'cumulative': True})\n",
    "\n",
    "plt.xlim([0,120])\n",
    "ax.set(xlabel='# of anti-patterns spotted', ylabel='Share of Analyzed Projects',)\n",
    "\n",
    "plt.savefig(os.path.join(folder, '..', 'figs', 'projects-ap-ditribution-cum.pdf'))"
   ]
  },
  {
   "cell_type": "markdown",
   "metadata": {},
   "source": [
    "### Analysis per Category of Anti-pattern"
   ]
  },
  {
   "cell_type": "code",
   "execution_count": 85,
   "metadata": {},
   "outputs": [
    {
     "name": "stdout",
     "output_type": "stream",
     "text": [
      "\\begin{tabular}{lrrr}\n",
      "\\toprule\n",
      "{} &  Total &  \\# of Projects &  \\% of Projects \\\\\n",
      "\\midrule\n",
      "INVO   &  84.00 &          11.00 &           8.27 \\\\\n",
      "FORK   &   7.00 &           3.00 &           2.26 \\\\\n",
      "SING   &  55.00 &          11.00 &           8.27 \\\\\n",
      "UNSINK & 461.00 &          57.00 &          42.86 \\\\\n",
      "STAT   &  74.00 &          12.00 &           9.02 \\\\\n",
      "FINA   &  42.00 &          13.00 &           9.77 \\\\\n",
      "LOOP   & 193.00 &          20.00 &          15.04 \\\\\n",
      "\\bottomrule\n",
      "\\end{tabular}\n",
      "\n"
     ]
    }
   ],
   "source": [
    "category_df = pd.DataFrame(columns=['Total', '# of Projects'])\n",
    "\n",
    "pd.options.display.float_format = '{:.2f}'.format\n",
    "\n",
    "for ap in anti_patterns:\n",
    "    total = df[ap].sum()\n",
    "    projects = len(df[df[ap] > 0])\n",
    "    category_df.loc[ap] = [total, projects]\n",
    "    \n",
    "category_df['% of Projects'] = category_df['# of Projects'] / len(df) * 100\n",
    "\n",
    "#pd.options.display.float_format = '{:.0f}'.format\n",
    "    \n",
    "print(category_df.to_latex())"
   ]
  },
  {
   "cell_type": "markdown",
   "metadata": {},
   "source": [
    "### Selected Projects"
   ]
  },
  {
   "cell_type": "code",
   "execution_count": 46,
   "metadata": {},
   "outputs": [
    {
     "name": "stdout",
     "output_type": "stream",
     "text": [
      "\\begin{tabular}{lrrrrrrrr}\n",
      "\\toprule\n",
      "{} &  INVO &  FORK &  SING &  UNSINK &  STAT &  STAT2 &  FINA &  LOOP \\\\\n",
      "name                &       &       &       &         &       &        &       &       \\\\\n",
      "\\midrule\n",
      "netty               &     2 &     0 &     0 &      21 &    10 &      0 &     2 &    14 \\\\\n",
      "druid               &     2 &     0 &     0 &      86 &     0 &      0 &     1 &    11 \\\\\n",
      "caffeine            &     0 &     0 &     0 &       3 &     0 &      1 &     0 &     0 \\\\\n",
      "h2o-3               &    10 &     0 &     0 &       1 &     0 &      0 &     0 &     6 \\\\\n",
      "gs-collections      &     0 &     0 &     0 &      85 &     0 &     13 &     0 &     0 \\\\\n",
      "hppc                &     0 &     0 &     3 &       0 &     0 &      0 &     0 &     0 \\\\\n",
      "logging-log4j2      &     0 &     0 &     5 &      19 &     0 &      5 &     4 &     6 \\\\\n",
      "oopsla15-artifact   &    13 &     3 &     5 &       5 &     0 &      2 &     2 &     1 \\\\\n",
      "netty               &     2 &     0 &     0 &      21 &    10 &      0 &     2 &    14 \\\\\n",
      "benchmark-arraycopy &     0 &     2 &     0 &       2 &     0 &      0 &     0 &     0 \\\\\n",
      "\\bottomrule\n",
      "\\end{tabular}\n",
      "\n"
     ]
    }
   ],
   "source": [
    "selected_projects = [\n",
    "    'netty',\n",
    "    'druid',\n",
    "    'h2o-3',\n",
    "    'pgdbc',\n",
    "    'oopsla15-artifact',\n",
    "    'benchmark-arraycopy',\n",
    "    'logging-log4j2',\n",
    "    'caffeine',\n",
    "    'gs-collections',\n",
    "    'hppc'\n",
    "]\n",
    "\n",
    "df_selected = analyzed[analyzed.index.isin(selected_projects)]\n",
    "pd.options.display.float_format = '{:2.0f}'.format\n",
    "df_selected = df_selected[anti_patterns].apply(pd.to_numeric)\n",
    "\n",
    "print(df_selected[anti_patterns].to_latex())"
   ]
  },
  {
   "cell_type": "code",
   "execution_count": 47,
   "metadata": {},
   "outputs": [
    {
     "name": "stdout",
     "output_type": "stream",
     "text": [
      "\\begin{tabular}{llll}\n",
      "\\toprule\n",
      "{} &              \\#1 &                 \\#2 &                        \\#3 \\\\\n",
      "\\midrule\n",
      "INVO   &           netty &              druid &                     h2o-3 \\\\\n",
      "FORK   &          pgjdbc &  oopsla15-artifact &       benchmark-arraycopy \\\\\n",
      "SING   &            hppc &     logging-log4j2 &                     xodus \\\\\n",
      "UNSINK &           netty &              druid &                  caffeine \\\\\n",
      "STAT   &           netty &                geo &  reactive-streams-commons \\\\\n",
      "STAT2  &  gs-collections &     logging-log4j2 &         oopsla15-artifact \\\\\n",
      "FINA   &           netty &     logging-log4j2 &               jmh-samples \\\\\n",
      "LOOP   &           netty &              druid &                     h2o-3 \\\\\n",
      "\\bottomrule\n",
      "\\end{tabular}\n",
      "\n"
     ]
    }
   ],
   "source": [
    "selected = pd.DataFrame(columns=['#1', '#2', '#3'])\n",
    "\n",
    "for ap in anti_patterns: \n",
    "    p = analyzed[analyzed[ap] > 1] # Filter unique cases\n",
    "    selected.loc[ap] = p[:3].index.values\n",
    "    \n",
    "print(selected.to_latex())"
   ]
  },
  {
   "cell_type": "markdown",
   "metadata": {},
   "source": [
    "### Correlation between # Benchmarks and Amount of Antipatterns found"
   ]
  },
  {
   "cell_type": "code",
   "execution_count": 71,
   "metadata": {},
   "outputs": [
    {
     "name": "stderr",
     "output_type": "stream",
     "text": [
      "C:\\ProgramData\\Anaconda3\\lib\\site-packages\\scipy\\stats\\stats.py:1713: FutureWarning: Using a non-tuple sequence for multidimensional indexing is deprecated; use `arr[tuple(seq)]` instead of `arr[seq]`. In the future this will be interpreted as an array index, `arr[np.array(seq)]`, which will result either in an error or a different result.\n",
      "  return np.add.reduce(sorted[indexer] * weights, axis=axis) / sumval\n"
     ]
    },
    {
     "data": {
      "text/plain": [
       "(0.7128467205681948, 6.329768902083779e-22)"
      ]
     },
     "execution_count": 71,
     "metadata": {},
     "output_type": "execute_result"
    },
    {
     "data": {
      "image/png": "[encoded data removed]",
      "text/plain": [
       "<matplotlib.figure.Figure at 0x2c075f24240>"
      ]
     },
     "metadata": {},
     "output_type": "display_data"
    }
   ],
   "source": [
    "from scipy import stats\n",
    "\n",
    "all_antipatterns = ['INVO', 'FORK', 'SING', 'UNSINK', 'LOOP', 'STAT', 'FINA']\n",
    "\n",
    "df['# of Anti-patterns'] = df[all_antipatterns].apply(sum, axis=1)\n",
    "\n",
    "ax = sns.regplot(x=\"Sum\", y=\"Benchs\", data=df)\n",
    "ax.set(xlabel='# of Anti-patterns', ylabel='# of Benchmark Tests')\n",
    "plt.savefig(os.path.join(folder, '..', 'figs', 'correlation-bench-ap.pdf'))\n",
    "\n",
    "stats.pearsonr(df['Benchs'].values, df['# of Anti-patterns'].values)\n",
    "\n"
   ]
  },
  {
   "cell_type": "code",
   "execution_count": null,
   "metadata": {
    "collapsed": true
   },
   "outputs": [],
   "source": []
  }
 ],
 "metadata": {
  "kernelspec": {
   "display_name": "Python 3",
   "language": "python",
   "name": "python3"
  },
  "language_info": {
   "codemirror_mode": {
    "name": "ipython",
    "version": 3
   },
   "file_extension": ".py",
   "mimetype": "text/x-python",
   "name": "python",
   "nbconvert_exporter": "python",
   "pygments_lexer": "ipython3",
   "version": "3.6.3"
  }
 },
 "nbformat": 4,
 "nbformat_minor": 2
}
