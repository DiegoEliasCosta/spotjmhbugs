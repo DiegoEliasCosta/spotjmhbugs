{
 "cells": [
  {
   "cell_type": "markdown",
   "metadata": {},
   "source": [
    "## Read Files"
   ]
  },
  {
   "cell_type": "code",
   "execution_count": 1,
   "metadata": {},
   "outputs": [],
   "source": [
    "import pandas as pd\n",
    "import os\n",
    "\n",
    "# Files to use for the analysis\n",
    "\n",
    "# detected_bugs_file = os.path.join('detected_bugs_3.csv')\n",
    "folder = os.path.join(\"results\")\n",
    "\n",
    "projects_ranking_file = os.path.join('jmh-projects-bigquery-fh-201702 - jmh-projects-gh.csv')\n",
    "\n",
    "top = 25\n",
    "\n",
    "projects = pd.read_csv(projects_ranking_file, sep=',')\n",
    "\n",
    "\n",
    "# Normalize columns\n",
    "projects['xml'] = projects['project'].apply(lambda x: x.split('/')[1] + '.xml')\n",
    "projects['name'] = projects['project'].apply(lambda x: x.split('/')[1])\n"
   ]
  },
  {
   "cell_type": "code",
   "execution_count": 2,
   "metadata": {},
   "outputs": [],
   "source": [
    "# Normalizing the plot colors\n",
    "COLOR = 'cornflowerblue'\n",
    "COLOR = 'lightskyblue'\n",
    "ALPHA = .8"
   ]
  },
  {
   "cell_type": "markdown",
   "metadata": {},
   "source": [
    "## Remove Projects that could not be analyzed"
   ]
  },
  {
   "cell_type": "code",
   "execution_count": 3,
   "metadata": {},
   "outputs": [],
   "source": [
    "# Remove projects that could not be analyzed\n",
    "projects_to_remove = ['jgrapht/jgrapht', 'lemire/RoaringBitmap', 'RoaringBitmap/RoaringBitmap', \n",
    "                      'requery/requery', 'Netflix/feign', 'crate/crate', 'real-logic/simple-binary-encoding', \n",
    "                      'jbachorik/btrace', 'promeG/TinyPinyin', 'pcollections/pcollections', 'ktoso/sbt-jmh', \n",
    "                      'junkdog/artemis-odb', 'fakemongo/fongo', 'graalvm/truffle', 'graalvm/graal-core']\n",
    "\n",
    "projects = projects[~projects['project'].isin(projects_to_remove)] # jgrapht\n",
    "\n",
    "top_projects = projects.sort_values(by=['watchers', 'stars', 'forks'], ascending=False)"
   ]
  },
  {
   "cell_type": "markdown",
   "metadata": {},
   "source": [
    "### Remove Forked Projects"
   ]
  },
  {
   "cell_type": "code",
   "execution_count": 4,
   "metadata": {},
   "outputs": [
    {
     "name": "stdout",
     "output_type": "stream",
     "text": [
      "Original Set containing 824 projects\n",
      "Non-forked projects containing 506 projects\n"
     ]
    }
   ],
   "source": [
    "non_duplicated_projects = top_projects[top_projects.forked == False]\n",
    "print('Original Set containing %d projects' % len(top_projects))\n",
    "print('Non-forked projects containing %d projects' % len(non_duplicated_projects))"
   ]
  },
  {
   "cell_type": "markdown",
   "metadata": {},
   "source": [
    "## Analyze the bugs based on the Type reported"
   ]
  },
  {
   "cell_type": "code",
   "execution_count": 5,
   "metadata": {},
   "outputs": [],
   "source": [
    "from collections import Counter\n",
    "import xml.etree.ElementTree as ET\n",
    "\n",
    "def analyzeBugTypes(df):\n",
    "    \n",
    "    try:\n",
    "    \n",
    "        tree = ET.parse(os.path.join(folder, df['xml']))\n",
    "        root = tree.getroot()\n",
    "\n",
    "        all_bugs = root.findall('BugInstance')\n",
    "\n",
    "        bugs_per_type = [] \n",
    "        for b in all_bugs:\n",
    "            bug_type = b.get('type')\n",
    "            clazz = b.find('Class')\n",
    "            if clazz and 'generated' not in clazz.get('classname'):\n",
    "                bugs_per_type.append(bug_type)\n",
    "\n",
    "        # Count bugs per type\n",
    "        bugs = Counter(bugs_per_type)\n",
    "        for key, value in bugs.items():\n",
    "            df[key] = value\n",
    "    \n",
    "    except FileNotFoundError:\n",
    "        pass\n",
    "    \n",
    "    return df\n",
    "\n",
    "analyzed = non_duplicated_projects.apply(analyzeBugTypes, axis=1)\n",
    "analyzed = analyzed.fillna(0)\n",
    "analyzed = analyzed.set_index('name')\n",
    "analyzed = analyzed[analyzed['JMH_BENCHMARK_METHOD_FOUND'] > 0]\n",
    "\n",
    "columns_to_export = [\n",
    "   'stars',\n",
    "   'forks',\n",
    "    'subscribers',\n",
    "    'watchers',\n",
    "    'JMH_BENCHMARK_METHOD_FOUND',\n",
    "    'JMH_FIXTURE_USING_INVOCATION_SCOPE',\n",
    "    'JMH_NOTFORKED_BENCHMARK',\n",
    "#    'JMH_BENCHMARKMODE_SINGLESHOT',\n",
    "   # 'JMH_UNSINKED_VARIABLE',\n",
    "    'JMH_DEAD_STORE_VARIABLE',\n",
    "    'JMH_IGNORED_STATIC_METHOD_RETURN',\n",
    "    'JMH_IGNORED_STATIC_PRIMITIVE_METHOD_RETURN',\n",
    "    'JMH_STATE_FINAL_PRIMITIVE',\n",
    "    'JMH_UNSAFELOOP_INSIDE_BENCHMARK',\n",
    "    #'JMH_STATE_FINAL_STATIC_PRIMITIVE',\n",
    "]\n",
    "\n",
    "\n",
    "bug_type_dict = {\n",
    "    'stars': 'Stars',\n",
    "    'forks': 'Forks',\n",
    "    'subscribers': 'Subs',\n",
    "    'JMH_BENCHMARK_METHOD_FOUND': 'Benchs',\n",
    "    'JMH_FIXTURE_USING_INVOCATION_SCOPE': 'INVO',\n",
    "    'JMH_IGNORED_METHOD_RETURN': 'RETU',\n",
    "    'JMH_UNSAFELOOP_INSIDE_BENCHMARK': 'LOOP',\n",
    "    'JMH_STATE_FINAL_FIELD': 'FINA',\n",
    "    'JMH_NOTFORKED_BENCHMARK': 'FORK',\n",
    "#    'JMH_BENCHMARKMODE_SINGLESHOT': 'SING',\n",
    "#    'JMH_UNSINKED_VARIABLE': 'UNSINK',\n",
    "    'JMH_DEAD_STORE_VARIABLE': 'DEAD',\n",
    "    'JMH_IGNORED_STATIC_METHOD_RETURN': 'STAT',\n",
    "    'JMH_IGNORED_STATIC_PRIMITIVE_METHOD_RETURN': 'STAT2',\n",
    "    \n",
    "    'JMH_STATE_FINAL_PRIMITIVE': 'FINA',\n",
    "    \n",
    "}\n",
    "\n",
    "analyzed = analyzed[columns_to_export]\n",
    "analyzed = analyzed.rename(columns=bug_type_dict)\n"
   ]
  },
  {
   "cell_type": "markdown",
   "metadata": {},
   "source": [
    "### Droping some duplicates\n",
    "\n",
    "For some reasons our set contains some projects multiple times."
   ]
  },
  {
   "cell_type": "code",
   "execution_count": 6,
   "metadata": {},
   "outputs": [
    {
     "name": "stdout",
     "output_type": "stream",
     "text": [
      "133\n",
      "Removing the following projects\n",
      "Index(['javaslang-circuitbreaker', 'rapidpm-microservice', 'netty',\n",
      "       'microbenchmarks', 'java', 'java', 'microbenchmarks', 'rtree',\n",
      "       'airlift', 'microbenchmarks'],\n",
      "      dtype='object', name='name')\n",
      "123\n"
     ]
    }
   ],
   "source": [
    "analyzed = analyzed.sort_values(by='Stars', ascending=False)\n",
    "print(len(analyzed))\n",
    "\n",
    "print(\"Removing the following projects\")\n",
    "print(analyzed[analyzed.index.duplicated(keep='first')].index)\n",
    "\n",
    "# Remove the one with least amount of stars\n",
    "analyzed = analyzed[~analyzed.index.duplicated(keep='first')]\n",
    "print(len(analyzed))\n"
   ]
  },
  {
   "cell_type": "code",
   "execution_count": 7,
   "metadata": {},
   "outputs": [
    {
     "data": {
      "text/html": [
       "<div>\n",
       "<style scoped>\n",
       "    .dataframe tbody tr th:only-of-type {\n",
       "        vertical-align: middle;\n",
       "    }\n",
       "\n",
       "    .dataframe tbody tr th {\n",
       "        vertical-align: top;\n",
       "    }\n",
       "\n",
       "    .dataframe thead th {\n",
       "        text-align: right;\n",
       "    }\n",
       "</style>\n",
       "<table border=\"1\" class=\"dataframe\">\n",
       "  <thead>\n",
       "    <tr style=\"text-align: right;\">\n",
       "      <th></th>\n",
       "      <th>Stars</th>\n",
       "      <th>Forks</th>\n",
       "      <th>Subs</th>\n",
       "      <th>watchers</th>\n",
       "      <th>Benchs</th>\n",
       "      <th>INVO</th>\n",
       "      <th>FORK</th>\n",
       "      <th>DEAD</th>\n",
       "      <th>STAT</th>\n",
       "      <th>STAT2</th>\n",
       "      <th>FINA</th>\n",
       "      <th>LOOP</th>\n",
       "    </tr>\n",
       "    <tr>\n",
       "      <th>name</th>\n",
       "      <th></th>\n",
       "      <th></th>\n",
       "      <th></th>\n",
       "      <th></th>\n",
       "      <th></th>\n",
       "      <th></th>\n",
       "      <th></th>\n",
       "      <th></th>\n",
       "      <th></th>\n",
       "      <th></th>\n",
       "      <th></th>\n",
       "      <th></th>\n",
       "    </tr>\n",
       "  </thead>\n",
       "  <tbody>\n",
       "    <tr>\n",
       "      <th>RxJava</th>\n",
       "      <td>23558</td>\n",
       "      <td>4143</td>\n",
       "      <td>1754</td>\n",
       "      <td>23558</td>\n",
       "      <td>215.0</td>\n",
       "      <td>0.0</td>\n",
       "      <td>0.0</td>\n",
       "      <td>0.0</td>\n",
       "      <td>0.0</td>\n",
       "      <td>0.0</td>\n",
       "      <td>0.0</td>\n",
       "      <td>0.0</td>\n",
       "    </tr>\n",
       "    <tr>\n",
       "      <th>netty</th>\n",
       "      <td>9746</td>\n",
       "      <td>4775</td>\n",
       "      <td>1243</td>\n",
       "      <td>9746</td>\n",
       "      <td>159.0</td>\n",
       "      <td>2.0</td>\n",
       "      <td>0.0</td>\n",
       "      <td>0.0</td>\n",
       "      <td>10.0</td>\n",
       "      <td>0.0</td>\n",
       "      <td>2.0</td>\n",
       "      <td>14.0</td>\n",
       "    </tr>\n",
       "    <tr>\n",
       "      <th>zipkin</th>\n",
       "      <td>5627</td>\n",
       "      <td>851</td>\n",
       "      <td>507</td>\n",
       "      <td>5627</td>\n",
       "      <td>74.0</td>\n",
       "      <td>0.0</td>\n",
       "      <td>0.0</td>\n",
       "      <td>0.0</td>\n",
       "      <td>0.0</td>\n",
       "      <td>0.0</td>\n",
       "      <td>0.0</td>\n",
       "      <td>0.0</td>\n",
       "    </tr>\n",
       "    <tr>\n",
       "      <th>druid</th>\n",
       "      <td>4743</td>\n",
       "      <td>1132</td>\n",
       "      <td>457</td>\n",
       "      <td>4743</td>\n",
       "      <td>148.0</td>\n",
       "      <td>2.0</td>\n",
       "      <td>0.0</td>\n",
       "      <td>0.0</td>\n",
       "      <td>0.0</td>\n",
       "      <td>0.0</td>\n",
       "      <td>1.0</td>\n",
       "      <td>11.0</td>\n",
       "    </tr>\n",
       "    <tr>\n",
       "      <th>okio</th>\n",
       "      <td>3703</td>\n",
       "      <td>601</td>\n",
       "      <td>220</td>\n",
       "      <td>3703</td>\n",
       "      <td>19.0</td>\n",
       "      <td>1.0</td>\n",
       "      <td>0.0</td>\n",
       "      <td>0.0</td>\n",
       "      <td>0.0</td>\n",
       "      <td>0.0</td>\n",
       "      <td>0.0</td>\n",
       "      <td>0.0</td>\n",
       "    </tr>\n",
       "  </tbody>\n",
       "</table>\n",
       "</div>"
      ],
      "text/plain": [
       "        Stars  Forks  Subs  watchers  Benchs  INVO  FORK  DEAD  STAT  STAT2  \\\n",
       "name                                                                          \n",
       "RxJava  23558   4143  1754     23558   215.0   0.0   0.0   0.0   0.0    0.0   \n",
       "netty    9746   4775  1243      9746   159.0   2.0   0.0   0.0  10.0    0.0   \n",
       "zipkin   5627    851   507      5627    74.0   0.0   0.0   0.0   0.0    0.0   \n",
       "druid    4743   1132   457      4743   148.0   2.0   0.0   0.0   0.0    0.0   \n",
       "okio     3703    601   220      3703    19.0   1.0   0.0   0.0   0.0    0.0   \n",
       "\n",
       "        FINA  LOOP  \n",
       "name                \n",
       "RxJava   0.0   0.0  \n",
       "netty    2.0  14.0  \n",
       "zipkin   0.0   0.0  \n",
       "druid    1.0  11.0  \n",
       "okio     0.0   0.0  "
      ]
     },
     "execution_count": 7,
     "metadata": {},
     "output_type": "execute_result"
    }
   ],
   "source": [
    "analyzed.head()"
   ]
  },
  {
   "cell_type": "markdown",
   "metadata": {},
   "source": [
    "# Dataset Exploration "
   ]
  },
  {
   "cell_type": "markdown",
   "metadata": {},
   "source": [
    "### Stars"
   ]
  },
  {
   "cell_type": "code",
   "execution_count": 8,
   "metadata": {},
   "outputs": [
    {
     "data": {
      "image/png": "[encoded data removed]",
      "text/plain": [
       "<Figure size 720x360 with 1 Axes>"
      ]
     },
     "metadata": {},
     "output_type": "display_data"
    }
   ],
   "source": [
    "import seaborn as sns\n",
    "%matplotlib inline\n",
    "import matplotlib.ticker as ticker\n",
    "import matplotlib.pyplot as plt\n",
    "\n",
    "sns.set(font_scale=1.8)\n",
    "plt.figure(figsize=(10,5))\n",
    "sns.set_style(\"ticks\")\n",
    "\n",
    "starbins=[0,10,25,50,100,500,50000]\n",
    "\n",
    "stars = pd.cut(analyzed['Stars'], bins=starbins).value_counts()\n",
    "ax = sns.barplot(x=stars.index, y=stars, color=COLOR, alpha=ALPHA)\n",
    "\n",
    "ax.set_xticklabels(['<10', '11-25','26-50','51-100','101-500','>500'])\n",
    "# , rotation = 45, ha=\"right\"\n",
    "ax.set(xlabel='# of Stars', ylabel='# of Projects')\n",
    "\n",
    "plt.tight_layout()\n",
    "plt.savefig(os.path.join(folder, 'projects-stars-distribution.pdf'))\n",
    "#plt.close()"
   ]
  },
  {
   "cell_type": "markdown",
   "metadata": {},
   "source": [
    "### Watchers"
   ]
  },
  {
   "cell_type": "code",
   "execution_count": 9,
   "metadata": {},
   "outputs": [
    {
     "data": {
      "image/png": "[encoded data removed]",
      "text/plain": [
       "<Figure size 432x360 with 1 Axes>"
      ]
     },
     "metadata": {},
     "output_type": "display_data"
    }
   ],
   "source": [
    "sns.set(font_scale=1.6)\n",
    "plt.figure(figsize=(6,5))\n",
    "sns.set_style(\"ticks\")\n",
    "\n",
    "watchersbin=[0,10,25,50,100,500,50000]\n",
    "\n",
    "watchers = pd.cut(analyzed['watchers'], bins=watchersbin).value_counts()\n",
    "ax = sns.barplot(x=watchers.index, y=watchers, color=COLOR, alpha=ALPHA)\n",
    "\n",
    "ax.set_xticklabels(['<10', '11-25','26-50','51-100','101-500','>500'], rotation = 45, ha=\"right\")\n",
    "#ax.xaxis.set_major_formatter(ticker.FixedFormatter())\n",
    "ax.set(xlabel='# of Watchers', ylabel='# of Projects')\n",
    "\n",
    "plt.tight_layout()\n",
    "plt.savefig(os.path.join(folder, 'projects-watchers-distribution.pdf'))\n",
    "#plt.close()"
   ]
  },
  {
   "cell_type": "markdown",
   "metadata": {},
   "source": [
    "### Forks"
   ]
  },
  {
   "cell_type": "code",
   "execution_count": 10,
   "metadata": {},
   "outputs": [],
   "source": [
    "sns.set(font_scale=1.2)\n",
    "plt.figure(figsize=(6,4))\n",
    "sns.set_style(\"ticks\")\n",
    "\n",
    "forksbin=[0,10,25,50,100,500,50000]\n",
    "\n",
    "forks = pd.cut(analyzed['Forks'], bins=watchersbin).value_counts()\n",
    "ax = sns.barplot(x=forks.index, y=forks, color=COLOR, alpha=ALPHA)\n",
    "\n",
    "ax.set_xticklabels(['<10', '11-25','26-50','51-100','101-500','>500'], rotation = 45, ha=\"right\")\n",
    "ax.set(xlabel='# of Forks', ylabel='# of Projects')\n",
    "\n",
    "plt.tight_layout()\n",
    "plt.savefig(os.path.join(folder, 'projects-forks-distribution.pdf'))\n",
    "plt.close()"
   ]
  },
  {
   "cell_type": "markdown",
   "metadata": {},
   "source": [
    "### Subscribers"
   ]
  },
  {
   "cell_type": "code",
   "execution_count": 11,
   "metadata": {},
   "outputs": [
    {
     "data": {
      "image/png": "[encoded data removed]",
      "text/plain": [
       "<Figure size 432x360 with 1 Axes>"
      ]
     },
     "metadata": {},
     "output_type": "display_data"
    }
   ],
   "source": [
    "sns.set(font_scale=1.8)\n",
    "plt.figure(figsize=(6,5))\n",
    "sns.set_style(\"ticks\")\n",
    "\n",
    "subscribersbin=[0,10,25,50,100,500,50000]\n",
    "\n",
    "subs = pd.cut(analyzed['Subs'], bins=subscribersbin).value_counts()\n",
    "ax = sns.barplot(x=subs.index, y=subs, color=COLOR, alpha=ALPHA)\n",
    "\n",
    "ax.set_xticklabels(['<10', '11-25','26-50','51-100','101-500','>500'], rotation = 45, ha=\"right\")\n",
    "ax.set(xlabel='# of Subscribers', ylabel='# of Projects')\n",
    "\n",
    "plt.tight_layout()\n",
    "plt.savefig(os.path.join(folder, 'projects-subscribers-distribution.pdf'))\n",
    "#plt.close()"
   ]
  },
  {
   "cell_type": "markdown",
   "metadata": {},
   "source": [
    "### Consolidate RETU anti-pattern"
   ]
  },
  {
   "cell_type": "code",
   "execution_count": 12,
   "metadata": {},
   "outputs": [],
   "source": [
    "analyzed['RETU'] = analyzed['DEAD'] + analyzed['STAT2'] + analyzed['STAT']"
   ]
  },
  {
   "cell_type": "markdown",
   "metadata": {},
   "source": [
    "## Latex (Tables) by Popularity"
   ]
  },
  {
   "cell_type": "code",
   "execution_count": 13,
   "metadata": {},
   "outputs": [
    {
     "name": "stdout",
     "output_type": "stream",
     "text": [
      "\\begin{tabular}{lrllllll}\n",
      "\\toprule\n",
      "{} &  Stars & Benchs & INVO & RETU & FINA & LOOP & FORK \\\\\n",
      "name                     &        &        &      &      &      &      &      \\\\\n",
      "\\midrule\n",
      "RxJava                   &  23558 &    215 &      &      &      &      &      \\\\\n",
      "netty                    &   9746 &    159 &    2 &   10 &    2 &   14 &      \\\\\n",
      "zipkin                   &   5627 &     74 &      &      &      &      &      \\\\\n",
      "druid                    &   4743 &    148 &    2 &      &    1 &   11 &      \\\\\n",
      "okio                     &   3703 &     19 &    1 &      &      &      &      \\\\\n",
      "grpc-java                &   2631 &      3 &      &      &      &      &      \\\\\n",
      "caffeine                 &   2414 &     38 &      &    1 &      &      &      \\\\\n",
      "h2o-3                    &   1943 &     18 &   10 &      &      &    6 &      \\\\\n",
      "gs-collections           &   1652 &    451 &      &   47 &      &      &      \\\\\n",
      "byte-buddy               &   1495 &     39 &      &      &      &      &      \\\\\n",
      "pinot                    &   1475 &     31 &      &      &      &   16 &      \\\\\n",
      "JCTools                  &   1053 &     92 &    2 &      &      &    1 &      \\\\\n",
      "apollo                   &   1023 &      1 &      &      &      &      &      \\\\\n",
      "stagemonitor             &    929 &      6 &      &      &      &      &      \\\\\n",
      "java                     &    623 &      2 &      &      &      &      &      \\\\\n",
      "pushy                    &    603 &      2 &      &      &      &      &      \\\\\n",
      "blynk-server             &    569 &     12 &      &      &      &      &      \\\\\n",
      "rtree                    &    482 &     42 &      &      &      &      &      \\\\\n",
      "commonmark-java          &    385 &      4 &      &      &      &      &      \\\\\n",
      "hppc                     &    373 &      5 &      &      &      &      &      \\\\\n",
      "es4j                     &    352 &      4 &      &      &      &      &      \\\\\n",
      "pgjdbc                   &    322 &     35 &      &      &      &      &    2 \\\\\n",
      "logging-log4j2           &    256 &    346 &      &    9 &    4 &    6 &      \\\\\n",
      "xodus                    &    248 &     66 &   18 &      &      &    7 &      \\\\\n",
      "javaslang-circuitbreaker &    224 &     17 &      &      &      &      &      \\\\\n",
      "\\bottomrule\n",
      "\\end{tabular}\n",
      "\n"
     ]
    }
   ],
   "source": [
    "# Consolidate both STAT \n",
    "latex = analyzed.copy()\n",
    "\n",
    "pd.options.display.float_format = '{:.0f}'.format\n",
    "\n",
    "latex = latex.sort_values(by='Stars', ascending=False)\n",
    "\n",
    "latex = latex[:top]\n",
    "latex = latex.fillna('')\n",
    "latex = latex.replace({0: ''})\n",
    "\n",
    "order = ['Stars', 'Benchs', 'INVO', 'RETU', 'FINA', 'LOOP', 'FORK']\n",
    "\n",
    "print(latex[order].to_latex())"
   ]
  },
  {
   "cell_type": "code",
   "execution_count": 14,
   "metadata": {},
   "outputs": [
    {
     "data": {
      "text/plain": [
       "Stars      1943\n",
       "Forks       836\n",
       "Subs        283\n",
       "watchers   1943\n",
       "Benchs       18\n",
       "INVO         10\n",
       "FORK          0\n",
       "DEAD          0\n",
       "STAT          0\n",
       "STAT2         0\n",
       "FINA          0\n",
       "LOOP          6\n",
       "RETU          0\n",
       "Name: h2o-3, dtype: float64"
      ]
     },
     "execution_count": 14,
     "metadata": {},
     "output_type": "execute_result"
    }
   ],
   "source": [
    "analyzed.loc['h2o-3']"
   ]
  },
  {
   "cell_type": "code",
   "execution_count": 15,
   "metadata": {},
   "outputs": [
    {
     "data": {
      "text/plain": [
       "Stars       2\n",
       "Forks       1\n",
       "Subs        1\n",
       "watchers    2\n",
       "Benchs     14\n",
       "INVO        0\n",
       "FORK        2\n",
       "DEAD        0\n",
       "STAT        0\n",
       "STAT2       0\n",
       "FINA        0\n",
       "LOOP        0\n",
       "RETU        0\n",
       "Name: benchmark-arraycopy, dtype: float64"
      ]
     },
     "execution_count": 15,
     "metadata": {},
     "output_type": "execute_result"
    }
   ],
   "source": [
    "analyzed.loc['benchmark-arraycopy']"
   ]
  },
  {
   "cell_type": "markdown",
   "metadata": {},
   "source": [
    "## Latex Table - By Amount of Benchmarks"
   ]
  },
  {
   "cell_type": "code",
   "execution_count": 16,
   "metadata": {},
   "outputs": [
    {
     "name": "stdout",
     "output_type": "stream",
     "text": [
      "\\begin{tabular}{llllllll}\n",
      "\\toprule\n",
      "{} &  Stars & Benchs & INVO & RETU & FINA & LOOP & FORK \\\\\n",
      "name                                &        &        &      &      &      &      &      \\\\\n",
      "\\midrule\n",
      "gs-collections                      &   1652 &    451 &      &   47 &      &      &      \\\\\n",
      "logging-log4j2                      &    256 &    346 &      &    9 &    4 &    6 &      \\\\\n",
      "RxJava                              &  23558 &    215 &      &      &      &      &      \\\\\n",
      "oopsla15-artifact                   &     16 &    213 &   13 &    4 &    2 &    1 &    3 \\\\\n",
      "netty                               &   9746 &    159 &    2 &   10 &    2 &   14 &      \\\\\n",
      "reactive-streams-commons            &    106 &    157 &      &    2 &      &      &      \\\\\n",
      "druid                               &   4743 &    148 &    2 &      &    1 &   11 &      \\\\\n",
      "JCTools                             &   1053 &     92 &    2 &      &      &    1 &      \\\\\n",
      "golo-jmh-benchmarks                 &      4 &     92 &      &      &      &      &      \\\\\n",
      "zipkin                              &   5627 &     74 &      &      &      &      &      \\\\\n",
      "microbenchmarks                     &      7 &     67 &      &      &    5 &   17 &      \\\\\n",
      "xodus                               &    248 &     66 &   18 &      &      &    7 &      \\\\\n",
      "lab-java8streamperformancebenchmark &      4 &     64 &      &      &      &    6 &      \\\\\n",
      "mini2Dx                             &    137 &     55 &      &      &      &      &      \\\\\n",
      "fast-select                         &      3 &     48 &      &      &      &      &      \\\\\n",
      "jenetics                            &    183 &     47 &      &      &    1 &    8 &      \\\\\n",
      "rtree                               &    482 &     42 &      &      &      &      &      \\\\\n",
      "byte-buddy                          &   1495 &     39 &      &      &      &      &      \\\\\n",
      "caffeine                            &   2414 &     38 &      &    1 &      &      &      \\\\\n",
      "pgjdbc                              &    322 &     35 &      &      &      &      &    2 \\\\\n",
      "java-final-benchmark                &     10 &     34 &      &      &      &      &      \\\\\n",
      "streamalg                           &     15 &     34 &      &      &      &    4 &      \\\\\n",
      "pinot                               &   1475 &     31 &      &      &      &   16 &      \\\\\n",
      "cache2k-benchmark                   &     12 &     28 &      &      &    1 &      &      \\\\\n",
      "template-compiler                   &     12 &     27 &      &      &      &      &      \\\\\n",
      "\\bottomrule\n",
      "\\end{tabular}\n",
      "\n"
     ]
    }
   ],
   "source": [
    "# Consolidate both STAT \n",
    "latex = analyzed.copy()\n",
    "\n",
    "pd.options.display.float_format = '{:.0f}'.format\n",
    "\n",
    "\n",
    "latex = latex.sort_values(by='Benchs', ascending=False)\n",
    "\n",
    "latex = latex[:top]\n",
    "latex = latex.fillna('')\n",
    "latex = latex.replace({0: ''})\n",
    "\n",
    "order = ['Stars', 'Benchs', 'INVO', 'RETU', 'FINA', 'LOOP', 'FORK']\n",
    "\n",
    "print(latex[order].to_latex())"
   ]
  },
  {
   "cell_type": "code",
   "execution_count": 17,
   "metadata": {},
   "outputs": [
    {
     "name": "stdout",
     "output_type": "stream",
     "text": [
      "Analyzed Projects containing 123\n"
     ]
    }
   ],
   "source": [
    "anti_patterns = ['INVO', 'FORK', 'RETU', 'FINA', 'LOOP']\n",
    "\n",
    "def anti_pattern_category_analysis(df):\n",
    "    cat = 0\n",
    "    count = 0\n",
    "    for ap in anti_patterns:\n",
    "        if df[ap] > 0:\n",
    "            cat = cat + 1\n",
    "            count = count + df[ap]\n",
    "    df['# of AP'] = count\n",
    "    df['# of Categories'] = cat\n",
    "    return df\n",
    "    \n",
    "df = analyzed.apply(anti_pattern_category_analysis, axis=1)\n",
    "print('Analyzed Projects containing %d' % len(df))"
   ]
  },
  {
   "cell_type": "markdown",
   "metadata": {},
   "source": [
    "### Latex Table - By Density of Benchmarks"
   ]
  },
  {
   "cell_type": "code",
   "execution_count": 18,
   "metadata": {},
   "outputs": [
    {
     "name": "stdout",
     "output_type": "stream",
     "text": [
      "\\begin{tabular}{lllllllll}\n",
      "\\toprule\n",
      "{} &   Stars & Benchs & Density &  INVO & RETU & FINA &  LOOP & FORK \\\\\n",
      "name                  &         &        &         &       &      &      &       &      \\\\\n",
      "\\midrule\n",
      "prairie               &    4.00 &  23.00 &    1.39 & 32.00 &      &      &       &      \\\\\n",
      "jbender               &   95.00 &   1.00 &    1.00 &       & 1.00 &      &       &      \\\\\n",
      "rest-schemagen        &   11.00 &   2.00 &    1.00 &       & 2.00 &      &       &      \\\\\n",
      "audio-recognition     &    4.00 &   1.00 &    1.00 &       & 1.00 &      &       &      \\\\\n",
      "geo                   &  182.00 &   2.00 &    1.00 &       & 2.00 &      &       &      \\\\\n",
      "fixio                 &   43.00 &   1.00 &    1.00 &  1.00 &      &      &       &      \\\\\n",
      "h2o-3                 & 1943.00 &  18.00 &    0.89 & 10.00 &      &      &  6.00 &      \\\\\n",
      "expire-threadlocal    &    2.00 &   6.00 &    0.83 &       & 5.00 &      &       &      \\\\\n",
      "safepoint-experiments &    5.00 &  18.00 &    0.67 &       & 1.00 &      & 11.00 &      \\\\\n",
      "jmh-samples           &   48.00 &  19.00 &    0.58 &       &      & 6.00 &  5.00 &      \\\\\n",
      "java-benchmarks       &    2.00 &  17.00 &    0.53 &       &      &      &  9.00 &      \\\\\n",
      "\\bottomrule\n",
      "\\end{tabular}\n",
      "\n"
     ]
    }
   ],
   "source": [
    "latex = df.copy()\n",
    "\n",
    "\n",
    "\n",
    "pd.options.display.float_format = '{:.2f}'.format\n",
    "latex['Density'] = latex['# of AP'] * 1.0 / latex['Benchs'] * 1.0\n",
    "\n",
    "latex = latex.sort_values(by='Density', ascending=False)\n",
    "\n",
    "latex = latex[:11]\n",
    "latex = latex.fillna('')\n",
    "latex = latex.replace({0: ''})\n",
    "\n",
    "order = ['Stars', 'Benchs', 'Density','INVO', 'RETU', 'FINA', 'LOOP', 'FORK']\n",
    "\n",
    "print(latex[order].to_latex())"
   ]
  },
  {
   "cell_type": "markdown",
   "metadata": {},
   "source": [
    "### Latex Table - Density (> 10 benchmarks)"
   ]
  },
  {
   "cell_type": "code",
   "execution_count": 19,
   "metadata": {},
   "outputs": [
    {
     "name": "stdout",
     "output_type": "stream",
     "text": [
      "\\begin{tabular}{lllllllll}\n",
      "\\toprule\n",
      "{} &   Stars & Benchs & Density &  INVO & RETU & FINA &  LOOP & FORK \\\\\n",
      "name                  &         &        &         &       &      &      &       &      \\\\\n",
      "\\midrule\n",
      "prairie               &    4.00 &  23.00 &    1.39 & 32.00 &      &      &       &      \\\\\n",
      "h2o-3                 & 1943.00 &  18.00 &    0.89 & 10.00 &      &      &  6.00 &      \\\\\n",
      "safepoint-experiments &    5.00 &  18.00 &    0.67 &       & 1.00 &      & 11.00 &      \\\\\n",
      "jmh-samples           &   48.00 &  19.00 &    0.58 &       &      & 6.00 &  5.00 &      \\\\\n",
      "java-benchmarks       &    2.00 &  17.00 &    0.53 &       &      &      &  9.00 &      \\\\\n",
      "pinot                 & 1475.00 &  31.00 &    0.52 &       &      &      & 16.00 &      \\\\\n",
      "xodus                 &  248.00 &  66.00 &    0.38 & 18.00 &      &      &  7.00 &      \\\\\n",
      "microbenchmarks       &    7.00 &  67.00 &    0.33 &       &      & 5.00 & 17.00 &      \\\\\n",
      "viktor                &    4.00 &  27.00 &    0.22 &       &      &      &  6.00 &      \\\\\n",
      "jenetics              &  183.00 &  47.00 &    0.19 &       &      & 1.00 &  8.00 &      \\\\\n",
      "\\bottomrule\n",
      "\\end{tabular}\n",
      "\n"
     ]
    }
   ],
   "source": [
    "# Consolidate both STAT \n",
    "latex = df.copy()\n",
    "latex = latex[latex.Benchs > 10]\n",
    "\n",
    "pd.options.display.float_format = '{:.2f}'.format\n",
    "latex['Density'] = latex['# of AP'] * 1.0 / latex['Benchs'] * 1.0\n",
    "\n",
    "latex = latex.sort_values(by='Density', ascending=False)\n",
    "\n",
    "latex = latex[:10]\n",
    "latex = latex.fillna('')\n",
    "latex = latex.replace({0: ''})\n",
    "\n",
    "order = ['Stars', 'Benchs', 'Density','INVO', 'RETU', 'FINA', 'LOOP', 'FORK']\n",
    "\n",
    "print(latex[order].to_latex())"
   ]
  },
  {
   "cell_type": "markdown",
   "metadata": {},
   "source": [
    "### Project Distribution Analysis\n",
    "\n",
    "Anti-patterns category distribution across different projects."
   ]
  },
  {
   "cell_type": "code",
   "execution_count": 20,
   "metadata": {},
   "outputs": [
    {
     "name": "stdout",
     "output_type": "stream",
     "text": [
      "\\begin{tabular}{lr}\n",
      "\\toprule\n",
      "{} &  \\# of Categories \\\\\n",
      "\\midrule\n",
      "0.00 &               88 \\\\\n",
      "1.00 &               24 \\\\\n",
      "2.00 &                7 \\\\\n",
      "3.00 &                2 \\\\\n",
      "5.00 &                1 \\\\\n",
      "4.00 &                1 \\\\\n",
      "\\bottomrule\n",
      "\\end{tabular}\n",
      "\n"
     ]
    }
   ],
   "source": [
    "counts = df['# of Categories'].value_counts()\n",
    "# General\n",
    "print(counts.to_latex())"
   ]
  },
  {
   "cell_type": "code",
   "execution_count": 29,
   "metadata": {},
   "outputs": [
    {
     "data": {
      "text/plain": [
       "49"
      ]
     },
     "execution_count": 29,
     "metadata": {},
     "output_type": "execute_result"
    }
   ],
   "source": [
    "large_df = df[df.Benchs >= 10]\n",
    "len(large_df)"
   ]
  },
  {
   "cell_type": "code",
   "execution_count": 26,
   "metadata": {},
   "outputs": [
    {
     "data": {
      "image/png": "[encoded data removed]",
      "text/plain": [
       "<Figure size 432x288 with 1 Axes>"
      ]
     },
     "metadata": {},
     "output_type": "display_data"
    }
   ],
   "source": [
    "%matplotlib inline\n",
    "sns.set(font_scale=1.2)\n",
    "sns.set_style(\"ticks\")\n",
    "\n",
    "bins = [-1,0,1,2,3,4,5,10,50]\n",
    "\n",
    "plt.figure(figsize=(6,4))\n",
    "\n",
    "clrs = 'colorblind'\n",
    "clrs = 'Blues'\n",
    "\n",
    "distribution = pd.cut(df['# of AP'], bins=bins).value_counts()\n",
    "#distribution = distribution / 123 * 100\n",
    "distribution = distribution[distribution > 0]\n",
    "ax = sns.barplot(y=distribution.index, x=distribution, color=COLOR, alpha=ALPHA)\n",
    "\n",
    "for p in ax.patches:\n",
    "    if p.get_width() > 40:\n",
    "        offset = -4\n",
    "    else:\n",
    "        offset = +4\n",
    "    ax.annotate(\"%.0f\" % p.get_width(), (p.get_x() + p.get_width() + offset, p.get_y() + .5),\n",
    "         ha='center', va='center', rotation=0, xytext=(0, 0), textcoords='offset points',fontsize=12, color='dimgray')  #vertical bars\n",
    "\n",
    "ax.yaxis.set_major_formatter(ticker.FixedFormatter(['0','1','2','3','4','5','6-10','+10']))\n",
    "ax.set(ylabel='# of identified bad JMH practices', xlabel='# of Projects',)\n",
    "b\n",
    "plt.tight_layout()\n",
    "\n",
    "plt.savefig(os.path.join(folder, '..', 'figs', 'projects-ap-ditribution.pdf'))"
   ]
  },
  {
   "cell_type": "markdown",
   "metadata": {},
   "source": [
    "### With Large Benchmark Suites"
   ]
  },
  {
   "cell_type": "code",
   "execution_count": 32,
   "metadata": {},
   "outputs": [
    {
     "data": {
      "image/png": "[encoded data removed]",
      "text/plain": [
       "<Figure size 432x288 with 1 Axes>"
      ]
     },
     "metadata": {},
     "output_type": "display_data"
    }
   ],
   "source": [
    "%matplotlib inline\n",
    "sns.set(font_scale=1.2)\n",
    "sns.set_style(\"ticks\")\n",
    "\n",
    "bins = [-1,0,1,2,3,4,5,10,50]\n",
    "\n",
    "plt.figure(figsize=(6,4))\n",
    "\n",
    "clrs = 'colorblind'\n",
    "clrs = 'Blues'\n",
    "\n",
    "distribution = pd.cut(large_df['# of AP'], bins=bins).value_counts()\n",
    "#distribution = distribution / 123 * 100\n",
    "distribution = distribution[distribution > 0]\n",
    "ax = sns.barplot(y=distribution.index, x=distribution, color=COLOR, alpha=ALPHA)\n",
    "\n",
    "for p in ax.patches:\n",
    "    if p.get_width() > 20:\n",
    "        offset = -1\n",
    "    else:\n",
    "        offset = +1\n",
    "    ax.annotate(\"%.0f\" % p.get_width(), (p.get_x() + p.get_width() + offset, p.get_y() + .5),\n",
    "         ha='center', va='center', rotation=0, xytext=(0, 0), textcoords='offset points',fontsize=12, color='dimgray')  #vertical bars\n",
    "\n",
    "ax.yaxis.set_major_formatter(ticker.FixedFormatter(['0','1','2','3','4','5','6-10','+10']))\n",
    "ax.set(ylabel='# of identified bad JMH practices', xlabel='# of Projects',)\n",
    "\n",
    "plt.tight_layout()\n",
    "\n",
    "plt.savefig(os.path.join(folder, '..', 'figs', 'projects-ap-ditribution-large.pdf'))"
   ]
  },
  {
   "cell_type": "code",
   "execution_count": 29,
   "metadata": {},
   "outputs": [
    {
     "data": {
      "text/plain": [
       "35"
      ]
     },
     "execution_count": 29,
     "metadata": {},
     "output_type": "execute_result"
    }
   ],
   "source": [
    "pd.cut(df['# of AP'], bins=bins).value_counts()\n",
    "123 - 88"
   ]
  },
  {
   "cell_type": "code",
   "execution_count": 19,
   "metadata": {},
   "outputs": [
    {
     "data": {
      "image/png": "[encoded data removed]",
      "text/plain": [
       "<matplotlib.figure.Figure at 0x2097a939208>"
      ]
     },
     "metadata": {},
     "output_type": "display_data"
    }
   ],
   "source": [
    "%matplotlib inline\n",
    "sns.set(font_scale=1.2)\n",
    "sns.set_style(\"ticks\")\n",
    "\n",
    "bins = [-1,0,1,2,3,4,5,10,50]\n",
    "\n",
    "plt.figure(figsize=(6,4))\n",
    "\n",
    "clrs = 'colorblind'\n",
    "clrs = 'Blues'\n",
    "\n",
    "distribution = pd.cut(large_df['# of AP'], bins=bins).value_counts()\n",
    "#distribution = distribution / 45 * 100\n",
    "distribution = distribution[distribution > 0]\n",
    "ax = sns.barplot(y=distribution.index, x=distribution, color=COLOR, alpha=ALPHA)\n",
    "\n",
    "for p in ax.patches:\n",
    "    if p.get_width() > 20:\n",
    "        offset = -1\n",
    "    else:\n",
    "        offset = +0.5\n",
    "    ax.annotate(\"%.0f\" % p.get_width(), (p.get_x() + p.get_width() + offset, p.get_y() + .5),\n",
    "         ha='center', va='center', rotation=0, xytext=(0, 0), textcoords='offset points',fontsize=12, color='dimgray')  #vertical bars\n",
    "\n",
    "ax.yaxis.set_major_formatter(ticker.FixedFormatter(['0','1','2','3','4','5','6-10','+10']))\n",
    "ax.set(ylabel='# of spotted anti-patterns', xlabel='% of Projects',)\n",
    "\n",
    "plt.tight_layout()\n",
    "\n",
    "plt.savefig(os.path.join(folder, '..', 'figs', 'projects-ap-ditribution-large.pdf'))"
   ]
  },
  {
   "cell_type": "code",
   "execution_count": 21,
   "metadata": {},
   "outputs": [
    {
     "data": {
      "text/plain": [
       "(-1, 0]    0.47\n",
       "(10, 50]   0.27\n",
       "(5, 10]    0.09\n",
       "(1, 2]     0.07\n",
       "(0, 1]     0.07\n",
       "(3, 4]     0.02\n",
       "(2, 3]     0.02\n",
       "Name: # of AP, dtype: float64"
      ]
     },
     "execution_count": 21,
     "metadata": {},
     "output_type": "execute_result"
    }
   ],
   "source": [
    "distribution / distribution.sum()"
   ]
  },
  {
   "cell_type": "markdown",
   "metadata": {},
   "source": [
    "### Analysis per Category of Anti-pattern"
   ]
  },
  {
   "cell_type": "code",
   "execution_count": 221,
   "metadata": {},
   "outputs": [
    {
     "name": "stdout",
     "output_type": "stream",
     "text": [
      "\\begin{tabular}{lrrr}\n",
      "\\toprule\n",
      "{} &  Total &  \\# of Projects &  \\% of Projects \\\\\n",
      "\\midrule\n",
      "INVO &  82.00 &          10.00 &           8.13 \\\\\n",
      "FORK &   7.00 &           3.00 &           2.44 \\\\\n",
      "RETU &  89.00 &          15.00 &          12.20 \\\\\n",
      "FINA &  25.00 &           9.00 &           7.32 \\\\\n",
      "LOOP & 128.00 &          16.00 &          13.01 \\\\\n",
      "\\bottomrule\n",
      "\\end{tabular}\n",
      "\n"
     ]
    }
   ],
   "source": [
    "category_df = pd.DataFrame(columns=['Total', '# of Projects'])\n",
    "\n",
    "pd.options.display.float_format = '{:.2f}'.format\n",
    "\n",
    "for ap in anti_patterns:\n",
    "    total = df[ap].sum()\n",
    "    projects = len(df[df[ap] > 0])\n",
    "    category_df.loc[ap] = [total, projects]\n",
    "    \n",
    "category_df['% of Projects'] = category_df['# of Projects'] / len(df) * 100\n",
    "\n",
    "print(category_df.to_latex())"
   ]
  },
  {
   "cell_type": "markdown",
   "metadata": {},
   "source": [
    "### Selected Projects"
   ]
  },
  {
   "cell_type": "code",
   "execution_count": 223,
   "metadata": {},
   "outputs": [
    {
     "name": "stdout",
     "output_type": "stream",
     "text": [
      "\\begin{tabular}{lrrrrr}\n",
      "\\toprule\n",
      "{} &  INVO &  FORK &  RETU &  FINA &  LOOP \\\\\n",
      "name                &       &       &       &       &       \\\\\n",
      "\\midrule\n",
      "netty               &     2 &     0 &    10 &     2 &    14 \\\\\n",
      "druid               &     2 &     0 &     0 &     1 &    11 \\\\\n",
      "caffeine            &     0 &     0 &     1 &     0 &     0 \\\\\n",
      "h2o-3               &    10 &     0 &     0 &     0 &     6 \\\\\n",
      "gs-collections      &     0 &     0 &    47 &     0 &     0 \\\\\n",
      "hppc                &     0 &     0 &     0 &     0 &     0 \\\\\n",
      "logging-log4j2      &     0 &     0 &     9 &     4 &     6 \\\\\n",
      "oopsla15-artifact   &    13 &     3 &     4 &     2 &     1 \\\\\n",
      "benchmark-arraycopy &     0 &     2 &     0 &     0 &     0 \\\\\n",
      "\\bottomrule\n",
      "\\end{tabular}\n",
      "\n"
     ]
    }
   ],
   "source": [
    "selected_projects = [\n",
    "    'netty',\n",
    "    'druid',\n",
    "    'h2o-3',\n",
    "    'pgdbc',\n",
    "    'oopsla15-artifact',\n",
    "    'benchmark-arraycopy',\n",
    "    'logging-log4j2',\n",
    "    'caffeine',\n",
    "    'gs-collections',\n",
    "    'hppc'\n",
    "]\n",
    "\n",
    "df_selected = analyzed[analyzed.index.isin(selected_projects)]\n",
    "pd.options.display.float_format = '{:2.0f}'.format\n",
    "df_selected = df_selected[anti_patterns].apply(pd.to_numeric)\n",
    "\n",
    "print(df_selected[anti_patterns].to_latex())"
   ]
  },
  {
   "cell_type": "code",
   "execution_count": 224,
   "metadata": {},
   "outputs": [
    {
     "name": "stdout",
     "output_type": "stream",
     "text": [
      "\\begin{tabular}{llll}\n",
      "\\toprule\n",
      "{} &      \\#1 &                 \\#2 &                   \\#3 \\\\\n",
      "\\midrule\n",
      "INVO &   netty &              druid &                h2o-3 \\\\\n",
      "FORK &  pgjdbc &  oopsla15-artifact &  benchmark-arraycopy \\\\\n",
      "RETU &   netty &     gs-collections &       logging-log4j2 \\\\\n",
      "FINA &   netty &     logging-log4j2 &          jmh-samples \\\\\n",
      "LOOP &   netty &              druid &                h2o-3 \\\\\n",
      "\\bottomrule\n",
      "\\end{tabular}\n",
      "\n"
     ]
    }
   ],
   "source": [
    "selected = pd.DataFrame(columns=['#1', '#2', '#3'])\n",
    "\n",
    "for ap in anti_patterns: \n",
    "    p = analyzed[analyzed[ap] > 1] # Filter unique cases\n",
    "    selected.loc[ap] = p[:3].index.values\n",
    "    \n",
    "print(selected.to_latex())"
   ]
  },
  {
   "cell_type": "markdown",
   "metadata": {},
   "source": [
    "### Correlation between # Benchmarks and Amount of Antipatterns found"
   ]
  },
  {
   "cell_type": "code",
   "execution_count": 254,
   "metadata": {},
   "outputs": [
    {
     "name": "stderr",
     "output_type": "stream",
     "text": [
      "C:\\ProgramData\\Anaconda3\\lib\\site-packages\\scipy\\stats\\stats.py:1713: FutureWarning: Using a non-tuple sequence for multidimensional indexing is deprecated; use `arr[tuple(seq)]` instead of `arr[seq]`. In the future this will be interpreted as an array index, `arr[np.array(seq)]`, which will result either in an error or a different result.\n",
      "  return np.add.reduce(sorted[indexer] * weights, axis=axis) / sumval\n"
     ]
    },
    {
     "data": {
      "text/plain": [
       "(0.6901351300513728, 1.0521758655102565e-18)"
      ]
     },
     "execution_count": 254,
     "metadata": {},
     "output_type": "execute_result"
    },
    {
     "data": {
      "image/png": "[encoded data removed]",
      "text/plain": [
       "<matplotlib.figure.Figure at 0x15e6b005be0>"
      ]
     },
     "metadata": {},
     "output_type": "display_data"
    }
   ],
   "source": [
    "from scipy import stats\n",
    "\n",
    "all_antipatterns = ['INVO', 'FORK', 'RETU', 'LOOP', 'FINA']\n",
    "\n",
    "df['# of Anti-patterns'] = df[all_antipatterns].apply(sum, axis=1)\n",
    "\n",
    "ax = sns.regplot(x=\"# of Anti-patterns\", y=\"Benchs\", data=df)\n",
    "ax.set(xlabel='# of Anti-patterns', ylabel='# of Benchmark Tests')\n",
    "plt.savefig(os.path.join(folder, '..', 'figs', 'correlation-bench-ap.pdf'))\n",
    "\n",
    "stats.pearsonr(df['Benchs'].values, df['# of Anti-patterns'].values)\n",
    "\n"
   ]
  },
  {
   "cell_type": "code",
   "execution_count": null,
   "metadata": {
    "collapsed": true
   },
   "outputs": [],
   "source": []
  }
 ],
 "metadata": {
  "kernelspec": {
   "display_name": "Python 3",
   "language": "python",
   "name": "python3"
  },
  "language_info": {
   "codemirror_mode": {
    "name": "ipython",
    "version": 3
   },
   "file_extension": ".py",
   "mimetype": "text/x-python",
   "name": "python",
   "nbconvert_exporter": "python",
   "pygments_lexer": "ipython3",
   "version": "3.6.5"
  }
 },
 "nbformat": 4,
 "nbformat_minor": 2
}
