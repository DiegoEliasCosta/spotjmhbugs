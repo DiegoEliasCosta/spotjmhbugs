{
 "cells": [
  {
   "cell_type": "markdown",
   "metadata": {},
   "source": [
    "## Project Analysis\n",
    "\n",
    "This script simply formats the most popular projects and excludes the projects that could not be analyzed by SpotBugs."
   ]
  },
  {
   "cell_type": "code",
   "execution_count": 1,
   "metadata": {
    "collapsed": true
   },
   "outputs": [],
   "source": [
    "import pandas as pd\n",
    "import os\n",
    "\n",
    "# Configuration Variables\n",
    "top = 25 # Top X projects to be analyzed\n",
    "\n",
    "# Files to use for the analysis\n",
    "projects_ranking_file = os.path.join('jmh-projects-bigquery-fh-201702 - jmh-projects-gh.csv')\n",
    "projects = pd.read_csv(projects_ranking_file, sep=',')\n"
   ]
  },
  {
   "cell_type": "markdown",
   "metadata": {},
   "source": [
    "## Remove projects\n",
    "\n",
    "Some projects could not be analyzed (did not yield a xml in the results folder)."
   ]
  },
  {
   "cell_type": "code",
   "execution_count": 2,
   "metadata": {
    "collapsed": true
   },
   "outputs": [],
   "source": [
    "# Remove projects that could not be analyzed\n",
    "projects_to_remove = ['jgrapht/jgrapht', 'lemire/RoaringBitmap', 'RoaringBitmap/RoaringBitmap', \n",
    "                      'requery/requery', 'Netflix/feign', 'crate/crate', 'real-logic/simple-binary-encoding', \n",
    "                      'jbachorik/btrace', 'promeG/TinyPinyin', 'pcollections/pcollections', 'ktoso/sbt-jmh', \n",
    "                      'junkdog/artemis-odb', 'fakemongo/fongo', 'graalvm/truffle', 'graalvm/graal-core']\n",
    "\n",
    "projects = projects[~projects['project'].isin(projects_to_remove)] # jgrapht"
   ]
  },
  {
   "cell_type": "code",
   "execution_count": 3,
   "metadata": {},
   "outputs": [
    {
     "name": "stdout",
     "output_type": "stream",
     "text": [
      "\\begin{tabular}{lrrr}\n",
      "\\toprule\n",
      "{} &  stars &  forks &  subscribers \\\\\n",
      "\\textbf{project            } &        &        &              \\\\\n",
      "\\midrule\n",
      "\\textbf{RxJava             } &  23558 &   4143 &         1754 \\\\\n",
      "\\textbf{netty              } &   9746 &   4775 &         1243 \\\\\n",
      "\\textbf{zipkin             } &   5627 &    851 &          507 \\\\\n",
      "\\textbf{druid              } &   4743 &   1132 &          457 \\\\\n",
      "\\textbf{okio               } &   3703 &    601 &          220 \\\\\n",
      "\\textbf{grpc-java          } &   2631 &    821 &          380 \\\\\n",
      "\\textbf{caffeine           } &   2414 &    192 &          176 \\\\\n",
      "\\textbf{h2o-3              } &   1943 &    836 &          283 \\\\\n",
      "\\textbf{gs-collections     } &   1652 &    247 &          204 \\\\\n",
      "\\textbf{byte-buddy         } &   1495 &    156 &           97 \\\\\n",
      "\\textbf{pinot              } &   1475 &    258 &          173 \\\\\n",
      "\\textbf{JCTools            } &   1053 &    149 &          134 \\\\\n",
      "\\textbf{apollo             } &   1023 &    124 &          128 \\\\\n",
      "\\textbf{stagemonitor       } &    929 &    147 &           81 \\\\\n",
      "\\textbf{java               } &    623 &    143 &           64 \\\\\n",
      "\\textbf{pushy              } &    603 &    183 &          134 \\\\\n",
      "\\textbf{blynk-server       } &    569 &    198 &           87 \\\\\n",
      "\\textbf{cyclops-react      } &    568 &     60 &           72 \\\\\n",
      "\\textbf{rtree              } &    482 &     90 &           41 \\\\\n",
      "\\textbf{commonmark-java    } &    385 &     49 &           76 \\\\\n",
      "\\textbf{hppc               } &    373 &     65 &           51 \\\\\n",
      "\\textbf{es4j               } &    352 &     18 &           21 \\\\\n",
      "\\textbf{pgjdbc             } &    322 &    249 &           66 \\\\\n",
      "\\textbf{spring-cloud-sleuth} &    301 &    170 &           60 \\\\\n",
      "\\textbf{logging-log4j2     } &    256 &    194 &           44 \\\\\n",
      "\\bottomrule\n",
      "\\end{tabular}\n",
      "\n"
     ]
    }
   ],
   "source": [
    "# Normalize the projects name\n",
    "projects.index = projects['project'].apply(lambda x: x.split('/')[1])\n",
    "\n",
    "top = 25\n",
    "top_projects = projects[[ 'stars', 'forks','subscribers']][:top]\n",
    "print(top_projects.to_latex(bold_rows=True))"
   ]
  }
 ],
 "metadata": {
  "kernelspec": {
   "display_name": "Python 3",
   "language": "python",
   "name": "python3"
  },
  "language_info": {
   "codemirror_mode": {
    "name": "ipython",
    "version": 3
   },
   "file_extension": ".py",
   "mimetype": "text/x-python",
   "name": "python",
   "nbconvert_exporter": "python",
   "pygments_lexer": "ipython3",
   "version": "3.6.3"
  }
 },
 "nbformat": 4,
 "nbformat_minor": 2
}
